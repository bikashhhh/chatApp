{
  "nbformat": 4,
  "nbformat_minor": 0,
  "metadata": {
    "colab": {
      "name": "Untitled5.ipynb",
      "provenance": [],
      "include_colab_link": true
    },
    "kernelspec": {
      "name": "python3",
      "display_name": "Python 3"
    }
  },
  "cells": [
    {
      "cell_type": "markdown",
      "metadata": {
        "id": "view-in-github",
        "colab_type": "text"
      },
      "source": [
        "<a href=\"https://colab.research.google.com/github/bikashhhh/chatApp/blob/master/Untitled5.ipynb\" target=\"_parent\"><img src=\"https://colab.research.google.com/assets/colab-badge.svg\" alt=\"Open In Colab\"/></a>"
      ]
    },
    {
      "cell_type": "code",
      "metadata": {
        "id": "M4Lli49OpyOw",
        "colab_type": "code",
        "outputId": "5a8e8cb9-428e-4e53-b3bd-57a915cfae0d",
        "colab": {
          "base_uri": "https://localhost:8080/",
          "height": 1000
        }
      },
      "source": [
        "# -*- coding: utf-8 -*-\n",
        "\"\"\"\n",
        "Created on Sat May  2 01:59:23 2020\n",
        "\n",
        "@author: Bikash\n",
        "\"\"\"\n",
        "\n",
        "# K-Means Clustering\n",
        "\n",
        "# Importing the libraries\n",
        "import numpy as np\n",
        "import matplotlib.pyplot as plt\n",
        "import pandas as pd\n",
        "import seaborn as sns\n",
        "\n",
        "# Importing the dataset\n",
        "data = pd.read_csv('/content/data.csv',encoding=\"ISO-8859-1\")\n",
        "\n",
        "# To check null values we can use heatmap\n",
        "sns.heatmap(data.isnull(),yticklabels=False,cbar=False, cmap='viridis')\n",
        "\n",
        "data['type'].unique()\n",
        "data.info()\n",
        "\n",
        "# So, we can remove these columns with so many null values\n",
        "data.drop(['stn_code','agency','sampling_date','pm2_5','location_monitoring_station'], inplace = True, axis=1)\n",
        "data.head()\n",
        "\n",
        "# Now we will work on missing values, i.e NaN values.\n",
        "from sklearn.preprocessing import Imputer\n",
        "\n",
        "# For so2 and no2 we are taking median of all values by state.\n",
        "data['so2'] = data.groupby('state')['so2'].transform(lambda x: x.fillna(x.median()))\n",
        "data['no2'] = data.groupby('state')['no2'].transform(lambda x: x.fillna(x.median()))\n",
        "\n",
        "data.head()\n",
        "\n",
        "# For rspm and spm we are taking mean of all values.\n",
        "imputer = Imputer(missing_values = np.nan, strategy = 'mean')\n",
        "imputer = imputer.fit(data.iloc[:,5:7].values)\n",
        "\n",
        "data.iloc[:,5:7] = imputer.transform(data.iloc[:,5:7].values)\n",
        "data.info()\n",
        "\n",
        "# Now for 'type'\n",
        "# 'type' is having very few missing values so we can fill the nan values\n",
        "# with most common occuring,i.e, Residential, Rural and other Areas.\n",
        "\n",
        "data['type'] = data['type'].fillna('Residential, Rural and other Areas')\n",
        "data.info()\n",
        "\n",
        "data.head()\n",
        "\n",
        "data_mapped=data.copy()\n",
        "data_mapped['state']= data_mapped['state'].map({'andaman-and-nicobar-islands':0,'Arunachal Pradesh':1,'Assam':2,'Bihar':3,'Andhra Pradesh':4,'Chandigarh':5,'Chhattisgarh':6,'Goa':7,'Gujarat':8,'Haryana':9,'Himachal Pradesh':10,'Jharkhand':11,'Karnataka':12,'Kerala':13,'Madhya Pradesh':14,'Maharashtra':15,'Manipur':16,'Meghalaya':16,'Mizoram':18,'Nagaland':19,'Odisha':20,'Punjab':21,'Rajasthan':22,'Sikkim':23,'Tamil Nadu':24,'Telangana':25,'Tripura':26,'Uttar Pradesh':27,'Uttaranchal':28,'West Bengal':29,'Delhi':30,'Daman & Diu':31,'Lakshadweep':33,'Tripura':34,'Jammu & Kashmir':35,'Dadra & Nagar Haveli':36,'Puducherry':37,'Uttarakhand':38})\n",
        "\n",
        "\n",
        "X = data_mapped.iloc[:, [0, 3]].values\n",
        "\n",
        "\n",
        "# To check null values we can use heatmap\n",
        "sns.heatmap(data_mapped.isnull(),yticklabels=False,cbar=False, cmap='viridis')\n",
        "\n",
        "data['state'].unique()\n",
        "\n",
        "\n",
        "\n",
        "# Using the elbow method to find the optimal number of clusters\n",
        "from sklearn.cluster import KMeans\n",
        "wcss = []\n",
        "for i in range(1, 11):\n",
        "    kmeans = KMeans(n_clusters = i, init = 'k-means++', random_state = 42)\n",
        "    kmeans.fit(X)\n",
        "    wcss.append(kmeans.inertia_)\n",
        "plt.plot(range(1, 11), wcss)\n",
        "plt.title('The Elbow Method')\n",
        "plt.xlabel('Number of clusters')\n",
        "plt.ylabel('WCSS')\n",
        "plt.show()\n",
        "\n",
        "# Fitting K-Means to the dataset\n",
        "kmeans = KMeans(n_clusters = 5, init = 'k-means++', random_state = 42)\n",
        "y_kmeans = kmeans.fit_predict(X)\n",
        "\n",
        "# Visualising the clusters\n",
        "plt.scatter(X[y_kmeans == 0, 0], X[y_kmeans == 0, 1], s = 100, c = 'red', label = 'Cluster 1')\n",
        "plt.scatter(X[y_kmeans == 1, 0], X[y_kmeans == 1, 1], s = 100, c = 'blue', label = 'Cluster 2')\n",
        "plt.scatter(X[y_kmeans == 2, 0], X[y_kmeans == 2, 1], s = 100, c = 'green', label = 'Cluster 3')\n",
        "plt.scatter(X[y_kmeans == 3, 0], X[y_kmeans == 3, 1], s = 100, c = 'cyan', label = 'Cluster 4')\n",
        "plt.scatter(X[y_kmeans == 4, 0], X[y_kmeans == 4, 1], s = 100, c = 'magenta', label = 'Cluster 5')\n",
        "plt.scatter(kmeans.cluster_centers_[:, 0], kmeans.cluster_centers_[:, 1], s = 300, c = 'yellow', label = 'Centroids')\n",
        "plt.title('Clusters of S02 Pollutant')\n",
        "plt.xlabel('States')\n",
        "plt.ylabel('S02')\n",
        "plt.legend()\n",
        "plt.show()"
      ],
      "execution_count": 0,
      "outputs": [
        {
          "output_type": "stream",
          "text": [
            "/usr/local/lib/python3.6/dist-packages/IPython/core/interactiveshell.py:2718: DtypeWarning: Columns (0) have mixed types.Specify dtype option on import or set low_memory=False.\n",
            "  interactivity=interactivity, compiler=compiler, result=result)\n"
          ],
          "name": "stderr"
        },
        {
          "output_type": "stream",
          "text": [
            "<class 'pandas.core.frame.DataFrame'>\n",
            "RangeIndex: 338635 entries, 0 to 338634\n",
            "Data columns (total 13 columns):\n",
            " #   Column                       Non-Null Count   Dtype  \n",
            "---  ------                       --------------   -----  \n",
            " 0   stn_code                     223592 non-null  object \n",
            " 1   sampling_date                338635 non-null  object \n",
            " 2   state                        338635 non-null  object \n",
            " 3   location                     338634 non-null  object \n",
            " 4   agency                       219619 non-null  object \n",
            " 5   type                         334245 non-null  object \n",
            " 6   so2                          309260 non-null  float64\n",
            " 7   no2                          325546 non-null  float64\n",
            " 8   rspm                         305767 non-null  float64\n",
            " 9   spm                          153366 non-null  float64\n",
            " 10  location_monitoring_station  316523 non-null  object \n",
            " 11  pm2_5                        7866 non-null    float64\n",
            " 12  date                         338630 non-null  object \n",
            "dtypes: float64(5), object(8)\n",
            "memory usage: 33.6+ MB\n"
          ],
          "name": "stdout"
        },
        {
          "output_type": "error",
          "ename": "ImportError",
          "evalue": "ignored",
          "traceback": [
            "\u001b[0;31m---------------------------------------------------------------------------\u001b[0m",
            "\u001b[0;31mImportError\u001b[0m                               Traceback (most recent call last)",
            "\u001b[0;32m<ipython-input-2-df4163b03252>\u001b[0m in \u001b[0;36m<module>\u001b[0;34m()\u001b[0m\n\u001b[1;32m     27\u001b[0m \u001b[0;34m\u001b[0m\u001b[0m\n\u001b[1;32m     28\u001b[0m \u001b[0;31m# Now we will work on missing values, i.e NaN values.\u001b[0m\u001b[0;34m\u001b[0m\u001b[0;34m\u001b[0m\u001b[0;34m\u001b[0m\u001b[0m\n\u001b[0;32m---> 29\u001b[0;31m \u001b[0;32mfrom\u001b[0m \u001b[0msklearn\u001b[0m\u001b[0;34m.\u001b[0m\u001b[0mpreprocessing\u001b[0m \u001b[0;32mimport\u001b[0m \u001b[0mImputer\u001b[0m\u001b[0;34m\u001b[0m\u001b[0;34m\u001b[0m\u001b[0m\n\u001b[0m\u001b[1;32m     30\u001b[0m \u001b[0;34m\u001b[0m\u001b[0m\n\u001b[1;32m     31\u001b[0m \u001b[0;31m# For so2 and no2 we are taking median of all values by state.\u001b[0m\u001b[0;34m\u001b[0m\u001b[0;34m\u001b[0m\u001b[0;34m\u001b[0m\u001b[0m\n",
            "\u001b[0;31mImportError\u001b[0m: cannot import name 'Imputer'",
            "",
            "\u001b[0;31m---------------------------------------------------------------------------\u001b[0;32m\nNOTE: If your import is failing due to a missing package, you can\nmanually install dependencies using either !pip or !apt.\n\nTo view examples of installing some common dependencies, click the\n\"Open Examples\" button below.\n\u001b[0;31m---------------------------------------------------------------------------\u001b[0m\n"
          ]
        },
        {
          "output_type": "display_data",
          "data": {
            "image/png": "[encoded data removed]",
            "text/plain": [
              "<Figure size 432x288 with 1 Axes>"
            ]
          },
          "metadata": {
            "tags": [],
            "needs_background": "light"
          }
        }
      ]
    },
    {
      "cell_type": "code",
      "metadata": {
        "id": "ouR4qqe_t0q8",
        "colab_type": "code",
        "outputId": "87deecf2-35a2-457e-fd50-100a16855951",
        "colab": {
          "base_uri": "https://localhost:8080/",
          "height": 961
        }
      },
      "source": [
        "# K-Means Clustering\n",
        "\n",
        "# Importing the libraries\n",
        "import numpy as np\n",
        "import matplotlib.pyplot as plt\n",
        "import pandas as pd\n",
        "import seaborn as sns\n",
        "\n",
        "# Importing the dataset\n",
        "data = pd.read_csv('/content/data.csv',encoding=\"ISO-8859-1\")\n",
        "\n",
        "# To check null values we can use heatmap\n",
        "sns.heatmap(data.isnull(),yticklabels=False,cbar=False, cmap='viridis')\n",
        "\n",
        "data['type'].unique()\n",
        "data.info()\n",
        "\n",
        "# So, we can remove these columns with so many null values\n",
        "data.drop(['stn_code','agency','sampling_date','pm2_5','location_monitoring_station'], inplace = True, axis=1)\n",
        "data.head()"
      ],
      "execution_count": 0,
      "outputs": [
        {
          "output_type": "stream",
          "text": [
            "/usr/local/lib/python3.6/dist-packages/IPython/core/interactiveshell.py:2718: DtypeWarning: Columns (0) have mixed types.Specify dtype option on import or set low_memory=False.\n",
            "  interactivity=interactivity, compiler=compiler, result=result)\n"
          ],
          "name": "stderr"
        },
        {
          "output_type": "stream",
          "text": [
            "<class 'pandas.core.frame.DataFrame'>\n",
            "RangeIndex: 403303 entries, 0 to 403302\n",
            "Data columns (total 13 columns):\n",
            " #   Column                       Non-Null Count   Dtype  \n",
            "---  ------                       --------------   -----  \n",
            " 0   stn_code                     267234 non-null  object \n",
            " 1   sampling_date                403303 non-null  object \n",
            " 2   state                        403303 non-null  object \n",
            " 3   location                     403303 non-null  object \n",
            " 4   agency                       262210 non-null  object \n",
            " 5   type                         397912 non-null  object \n",
            " 6   so2                          370802 non-null  float64\n",
            " 7   no2                          388165 non-null  float64\n",
            " 8   rspm                         364343 non-null  float64\n",
            " 9   spm                          184939 non-null  float64\n",
            " 10  location_monitoring_station  376968 non-null  object \n",
            " 11  pm2_5                        8674 non-null    float64\n",
            " 12  date                         403298 non-null  object \n",
            "dtypes: float64(5), object(8)\n",
            "memory usage: 40.0+ MB\n"
          ],
          "name": "stdout"
        },
        {
          "output_type": "execute_result",
          "data": {
            "text/html": [
              "<div>\n",
              "<style scoped>\n",
              "    .dataframe tbody tr th:only-of-type {\n",
              "        vertical-align: middle;\n",
              "    }\n",
              "\n",
              "    .dataframe tbody tr th {\n",
              "        vertical-align: top;\n",
              "    }\n",
              "\n",
              "    .dataframe thead th {\n",
              "        text-align: right;\n",
              "    }\n",
              "</style>\n",
              "<table border=\"1\" class=\"dataframe\">\n",
              "  <thead>\n",
              "    <tr style=\"text-align: right;\">\n",
              "      <th></th>\n",
              "      <th>state</th>\n",
              "      <th>location</th>\n",
              "      <th>type</th>\n",
              "      <th>so2</th>\n",
              "      <th>no2</th>\n",
              "      <th>rspm</th>\n",
              "      <th>spm</th>\n",
              "      <th>date</th>\n",
              "    </tr>\n",
              "  </thead>\n",
              "  <tbody>\n",
              "    <tr>\n",
              "      <th>0</th>\n",
              "      <td>Andhra Pradesh</td>\n",
              "      <td>Hyderabad</td>\n",
              "      <td>Residential, Rural and other Areas</td>\n",
              "      <td>4.8</td>\n",
              "      <td>17.4</td>\n",
              "      <td>NaN</td>\n",
              "      <td>NaN</td>\n",
              "      <td>01-02-1990</td>\n",
              "    </tr>\n",
              "    <tr>\n",
              "      <th>1</th>\n",
              "      <td>Andhra Pradesh</td>\n",
              "      <td>Hyderabad</td>\n",
              "      <td>Industrial Area</td>\n",
              "      <td>3.1</td>\n",
              "      <td>7.0</td>\n",
              "      <td>NaN</td>\n",
              "      <td>NaN</td>\n",
              "      <td>01-02-1990</td>\n",
              "    </tr>\n",
              "    <tr>\n",
              "      <th>2</th>\n",
              "      <td>Andhra Pradesh</td>\n",
              "      <td>Hyderabad</td>\n",
              "      <td>Residential, Rural and other Areas</td>\n",
              "      <td>6.2</td>\n",
              "      <td>28.5</td>\n",
              "      <td>NaN</td>\n",
              "      <td>NaN</td>\n",
              "      <td>01-02-1990</td>\n",
              "    </tr>\n",
              "    <tr>\n",
              "      <th>3</th>\n",
              "      <td>Andhra Pradesh</td>\n",
              "      <td>Hyderabad</td>\n",
              "      <td>Residential, Rural and other Areas</td>\n",
              "      <td>6.3</td>\n",
              "      <td>14.7</td>\n",
              "      <td>NaN</td>\n",
              "      <td>NaN</td>\n",
              "      <td>01-03-1990</td>\n",
              "    </tr>\n",
              "    <tr>\n",
              "      <th>4</th>\n",
              "      <td>Andhra Pradesh</td>\n",
              "      <td>Hyderabad</td>\n",
              "      <td>Industrial Area</td>\n",
              "      <td>4.7</td>\n",
              "      <td>7.5</td>\n",
              "      <td>NaN</td>\n",
              "      <td>NaN</td>\n",
              "      <td>01-03-1990</td>\n",
              "    </tr>\n",
              "  </tbody>\n",
              "</table>\n",
              "</div>"
            ],
            "text/plain": [
              "            state   location  ... spm        date\n",
              "0  Andhra Pradesh  Hyderabad  ... NaN  01-02-1990\n",
              "1  Andhra Pradesh  Hyderabad  ... NaN  01-02-1990\n",
              "2  Andhra Pradesh  Hyderabad  ... NaN  01-02-1990\n",
              "3  Andhra Pradesh  Hyderabad  ... NaN  01-03-1990\n",
              "4  Andhra Pradesh  Hyderabad  ... NaN  01-03-1990\n",
              "\n",
              "[5 rows x 8 columns]"
            ]
          },
          "metadata": {
            "tags": []
          },
          "execution_count": 4
        },
        {
          "output_type": "display_data",
          "data": {
            "image/png": "[encoded data removed]",
            "text/plain": [
              "<Figure size 432x288 with 1 Axes>"
            ]
          },
          "metadata": {
            "tags": [],
            "needs_background": "light"
          }
        }
      ]
    },
    {
      "cell_type": "code",
      "metadata": {
        "id": "IDba1wQuuIun",
        "colab_type": "code",
        "outputId": "c361393c-092b-499f-bd10-fc772e81390f",
        "colab": {
          "base_uri": "https://localhost:8080/",
          "height": 202
        }
      },
      "source": [
        "# For so2 and no2 we are taking median of all values by state.\n",
        "data['so2'] = data.groupby('state')['so2'].transform(lambda x: x.fillna(x.median()))\n",
        "data['no2'] = data.groupby('state')['no2'].transform(lambda x: x.fillna(x.median()))\n",
        "\n",
        "data.head()"
      ],
      "execution_count": 0,
      "outputs": [
        {
          "output_type": "execute_result",
          "data": {
            "text/html": [
              "<div>\n",
              "<style scoped>\n",
              "    .dataframe tbody tr th:only-of-type {\n",
              "        vertical-align: middle;\n",
              "    }\n",
              "\n",
              "    .dataframe tbody tr th {\n",
              "        vertical-align: top;\n",
              "    }\n",
              "\n",
              "    .dataframe thead th {\n",
              "        text-align: right;\n",
              "    }\n",
              "</style>\n",
              "<table border=\"1\" class=\"dataframe\">\n",
              "  <thead>\n",
              "    <tr style=\"text-align: right;\">\n",
              "      <th></th>\n",
              "      <th>state</th>\n",
              "      <th>location</th>\n",
              "      <th>type</th>\n",
              "      <th>so2</th>\n",
              "      <th>no2</th>\n",
              "      <th>rspm</th>\n",
              "      <th>spm</th>\n",
              "      <th>date</th>\n",
              "    </tr>\n",
              "  </thead>\n",
              "  <tbody>\n",
              "    <tr>\n",
              "      <th>0</th>\n",
              "      <td>Andhra Pradesh</td>\n",
              "      <td>Hyderabad</td>\n",
              "      <td>Residential, Rural and other Areas</td>\n",
              "      <td>4.8</td>\n",
              "      <td>17.4</td>\n",
              "      <td>NaN</td>\n",
              "      <td>NaN</td>\n",
              "      <td>01-02-1990</td>\n",
              "    </tr>\n",
              "    <tr>\n",
              "      <th>1</th>\n",
              "      <td>Andhra Pradesh</td>\n",
              "      <td>Hyderabad</td>\n",
              "      <td>Industrial Area</td>\n",
              "      <td>3.1</td>\n",
              "      <td>7.0</td>\n",
              "      <td>NaN</td>\n",
              "      <td>NaN</td>\n",
              "      <td>01-02-1990</td>\n",
              "    </tr>\n",
              "    <tr>\n",
              "      <th>2</th>\n",
              "      <td>Andhra Pradesh</td>\n",
              "      <td>Hyderabad</td>\n",
              "      <td>Residential, Rural and other Areas</td>\n",
              "      <td>6.2</td>\n",
              "      <td>28.5</td>\n",
              "      <td>NaN</td>\n",
              "      <td>NaN</td>\n",
              "      <td>01-02-1990</td>\n",
              "    </tr>\n",
              "    <tr>\n",
              "      <th>3</th>\n",
              "      <td>Andhra Pradesh</td>\n",
              "      <td>Hyderabad</td>\n",
              "      <td>Residential, Rural and other Areas</td>\n",
              "      <td>6.3</td>\n",
              "      <td>14.7</td>\n",
              "      <td>NaN</td>\n",
              "      <td>NaN</td>\n",
              "      <td>01-03-1990</td>\n",
              "    </tr>\n",
              "    <tr>\n",
              "      <th>4</th>\n",
              "      <td>Andhra Pradesh</td>\n",
              "      <td>Hyderabad</td>\n",
              "      <td>Industrial Area</td>\n",
              "      <td>4.7</td>\n",
              "      <td>7.5</td>\n",
              "      <td>NaN</td>\n",
              "      <td>NaN</td>\n",
              "      <td>01-03-1990</td>\n",
              "    </tr>\n",
              "  </tbody>\n",
              "</table>\n",
              "</div>"
            ],
            "text/plain": [
              "            state   location  ... spm        date\n",
              "0  Andhra Pradesh  Hyderabad  ... NaN  01-02-1990\n",
              "1  Andhra Pradesh  Hyderabad  ... NaN  01-02-1990\n",
              "2  Andhra Pradesh  Hyderabad  ... NaN  01-02-1990\n",
              "3  Andhra Pradesh  Hyderabad  ... NaN  01-03-1990\n",
              "4  Andhra Pradesh  Hyderabad  ... NaN  01-03-1990\n",
              "\n",
              "[5 rows x 8 columns]"
            ]
          },
          "metadata": {
            "tags": []
          },
          "execution_count": 5
        }
      ]
    },
    {
      "cell_type": "code",
      "metadata": {
        "id": "zTmROTQzuUn9",
        "colab_type": "code",
        "outputId": "b6017bc8-b507-4fe5-b0bc-449f21f3a1bd",
        "colab": {
          "base_uri": "https://localhost:8080/",
          "height": 277
        }
      },
      "source": [
        "# Now we will work on missing values, i.e NaN values.\n",
        "from sklearn.impute import SimpleImputer\n",
        "# For rspm and spm we are taking mean of all values.\n",
        "imputer = SimpleImputer(missing_values = np.nan, strategy = 'mean')\n",
        "imputer = imputer.fit(data.iloc[:,5:7].values)\n",
        "data.iloc[:,5:7] = imputer.transform(data.iloc[:,5:7].values)\n",
        "data.info()"
      ],
      "execution_count": 0,
      "outputs": [
        {
          "output_type": "stream",
          "text": [
            "<class 'pandas.core.frame.DataFrame'>\n",
            "RangeIndex: 403303 entries, 0 to 403302\n",
            "Data columns (total 8 columns):\n",
            " #   Column    Non-Null Count   Dtype  \n",
            "---  ------    --------------   -----  \n",
            " 0   state     403303 non-null  object \n",
            " 1   location  403303 non-null  object \n",
            " 2   type      397912 non-null  object \n",
            " 3   so2       403303 non-null  float64\n",
            " 4   no2       403303 non-null  float64\n",
            " 5   rspm      403303 non-null  float64\n",
            " 6   spm       403303 non-null  float64\n",
            " 7   date      403298 non-null  object \n",
            "dtypes: float64(4), object(4)\n",
            "memory usage: 24.6+ MB\n"
          ],
          "name": "stdout"
        }
      ]
    },
    {
      "cell_type": "code",
      "metadata": {
        "id": "qabPhKEdwECV",
        "colab_type": "code",
        "outputId": "6414b845-ed70-4751-c31f-469079b816a1",
        "colab": {
          "base_uri": "https://localhost:8080/",
          "height": 462
        }
      },
      "source": [
        "# Now for 'type'\n",
        "# 'type' is having very few missing values so we can fill the nan values\n",
        "# with most common occuring,i.e, Residential, Rural and other Areas.\n",
        "\n",
        "data['type'] = data['type'].fillna('Residential, Rural and other Areas')\n",
        "data.info()\n",
        "\n",
        "data.head()"
      ],
      "execution_count": 0,
      "outputs": [
        {
          "output_type": "stream",
          "text": [
            "<class 'pandas.core.frame.DataFrame'>\n",
            "RangeIndex: 403303 entries, 0 to 403302\n",
            "Data columns (total 8 columns):\n",
            " #   Column    Non-Null Count   Dtype  \n",
            "---  ------    --------------   -----  \n",
            " 0   state     403303 non-null  object \n",
            " 1   location  403303 non-null  object \n",
            " 2   type      403303 non-null  object \n",
            " 3   so2       403303 non-null  float64\n",
            " 4   no2       403303 non-null  float64\n",
            " 5   rspm      403303 non-null  float64\n",
            " 6   spm       403303 non-null  float64\n",
            " 7   date      403298 non-null  object \n",
            "dtypes: float64(4), object(4)\n",
            "memory usage: 24.6+ MB\n"
          ],
          "name": "stdout"
        },
        {
          "output_type": "execute_result",
          "data": {
            "text/html": [
              "<div>\n",
              "<style scoped>\n",
              "    .dataframe tbody tr th:only-of-type {\n",
              "        vertical-align: middle;\n",
              "    }\n",
              "\n",
              "    .dataframe tbody tr th {\n",
              "        vertical-align: top;\n",
              "    }\n",
              "\n",
              "    .dataframe thead th {\n",
              "        text-align: right;\n",
              "    }\n",
              "</style>\n",
              "<table border=\"1\" class=\"dataframe\">\n",
              "  <thead>\n",
              "    <tr style=\"text-align: right;\">\n",
              "      <th></th>\n",
              "      <th>state</th>\n",
              "      <th>location</th>\n",
              "      <th>type</th>\n",
              "      <th>so2</th>\n",
              "      <th>no2</th>\n",
              "      <th>rspm</th>\n",
              "      <th>spm</th>\n",
              "      <th>date</th>\n",
              "    </tr>\n",
              "  </thead>\n",
              "  <tbody>\n",
              "    <tr>\n",
              "      <th>0</th>\n",
              "      <td>Andhra Pradesh</td>\n",
              "      <td>Hyderabad</td>\n",
              "      <td>Residential, Rural and other Areas</td>\n",
              "      <td>4.8</td>\n",
              "      <td>17.4</td>\n",
              "      <td>106.748447</td>\n",
              "      <td>219.73358</td>\n",
              "      <td>01-02-1990</td>\n",
              "    </tr>\n",
              "    <tr>\n",
              "      <th>1</th>\n",
              "      <td>Andhra Pradesh</td>\n",
              "      <td>Hyderabad</td>\n",
              "      <td>Industrial Area</td>\n",
              "      <td>3.1</td>\n",
              "      <td>7.0</td>\n",
              "      <td>106.748447</td>\n",
              "      <td>219.73358</td>\n",
              "      <td>01-02-1990</td>\n",
              "    </tr>\n",
              "    <tr>\n",
              "      <th>2</th>\n",
              "      <td>Andhra Pradesh</td>\n",
              "      <td>Hyderabad</td>\n",
              "      <td>Residential, Rural and other Areas</td>\n",
              "      <td>6.2</td>\n",
              "      <td>28.5</td>\n",
              "      <td>106.748447</td>\n",
              "      <td>219.73358</td>\n",
              "      <td>01-02-1990</td>\n",
              "    </tr>\n",
              "    <tr>\n",
              "      <th>3</th>\n",
              "      <td>Andhra Pradesh</td>\n",
              "      <td>Hyderabad</td>\n",
              "      <td>Residential, Rural and other Areas</td>\n",
              "      <td>6.3</td>\n",
              "      <td>14.7</td>\n",
              "      <td>106.748447</td>\n",
              "      <td>219.73358</td>\n",
              "      <td>01-03-1990</td>\n",
              "    </tr>\n",
              "    <tr>\n",
              "      <th>4</th>\n",
              "      <td>Andhra Pradesh</td>\n",
              "      <td>Hyderabad</td>\n",
              "      <td>Industrial Area</td>\n",
              "      <td>4.7</td>\n",
              "      <td>7.5</td>\n",
              "      <td>106.748447</td>\n",
              "      <td>219.73358</td>\n",
              "      <td>01-03-1990</td>\n",
              "    </tr>\n",
              "  </tbody>\n",
              "</table>\n",
              "</div>"
            ],
            "text/plain": [
              "            state   location  ...        spm        date\n",
              "0  Andhra Pradesh  Hyderabad  ...  219.73358  01-02-1990\n",
              "1  Andhra Pradesh  Hyderabad  ...  219.73358  01-02-1990\n",
              "2  Andhra Pradesh  Hyderabad  ...  219.73358  01-02-1990\n",
              "3  Andhra Pradesh  Hyderabad  ...  219.73358  01-03-1990\n",
              "4  Andhra Pradesh  Hyderabad  ...  219.73358  01-03-1990\n",
              "\n",
              "[5 rows x 8 columns]"
            ]
          },
          "metadata": {
            "tags": []
          },
          "execution_count": 15
        }
      ]
    },
    {
      "cell_type": "code",
      "metadata": {
        "id": "1Kz-pswKwNY0",
        "colab_type": "code",
        "outputId": "dabac6ff-58b0-4bae-d8ef-7f9bba96f916",
        "colab": {
          "base_uri": "https://localhost:8080/",
          "height": 282
        }
      },
      "source": [
        "data_mapped=data.copy()\n",
        "data_mapped['state']= data_mapped['state'].map({'andaman-and-nicobar-islands':0,'Arunachal Pradesh':1,'Assam':2,'Bihar':3,'Andhra Pradesh':4,'Chandigarh':5,'Chhattisgarh':6,'Goa':7,'Gujarat':8,'Haryana':9,'Himachal Pradesh':10,'Jharkhand':11,'Karnataka':12,'Kerala':13,'Madhya Pradesh':14,'Maharashtra':15,'Manipur':16,'Meghalaya':16,'Mizoram':18,'Nagaland':19,'Odisha':20,'Punjab':21,'Rajasthan':22,'Sikkim':23,'Tamil Nadu':24,'Telangana':25,'Tripura':26,'Uttar Pradesh':27,'Uttaranchal':28,'West Bengal':29,'Delhi':30,'Daman & Diu':31,'Lakshadweep':33,'Tripura':34,'Jammu & Kashmir':35,'Dadra & Nagar Haveli':36,'Puducherry':37,'Uttarakhand':38})\n",
        "\n",
        "X = data_mapped.iloc[:, [0, 3]].values\n",
        "\n",
        "# To check null values we can use heatmap\n",
        "sns.heatmap(data_mapped.isnull(),yticklabels=False,cbar=False, cmap='viridis')\n"
      ],
      "execution_count": 0,
      "outputs": [
        {
          "output_type": "execute_result",
          "data": {
            "text/plain": [
              "<matplotlib.axes._subplots.AxesSubplot at 0x7f18de7fa438>"
            ]
          },
          "metadata": {
            "tags": []
          },
          "execution_count": 16
        },
        {
          "output_type": "display_data",
          "data": {
            "image/png": "[encoded data removed]",
            "text/plain": [
              "<Figure size 432x288 with 1 Axes>"
            ]
          },
          "metadata": {
            "tags": [],
            "needs_background": "light"
          }
        }
      ]
    },
    {
      "cell_type": "code",
      "metadata": {
        "id": "rXdAY1E1wdEn",
        "colab_type": "code",
        "outputId": "d3723155-56a8-4b5d-bac8-d8385b825750",
        "colab": {
          "base_uri": "https://localhost:8080/",
          "height": 158
        }
      },
      "source": [
        "\n",
        "data['state'].unique()"
      ],
      "execution_count": 0,
      "outputs": [
        {
          "output_type": "execute_result",
          "data": {
            "text/plain": [
              "array(['Andhra Pradesh', 'Arunachal Pradesh', 'Assam', 'Bihar',\n",
              "       'Chandigarh', 'Chhattisgarh', 'Dadra & Nagar Haveli',\n",
              "       'Daman & Diu', 'Delhi', 'Goa', 'Gujarat', 'Haryana',\n",
              "       'Himachal Pradesh', 'Jammu & Kashmir', 'Jharkhand', 'Karnataka',\n",
              "       'Kerala', 'Madhya Pradesh', 'Maharashtra', 'Manipur', 'Meghalaya',\n",
              "       'Mizoram', 'Nagaland', 'Odisha', 'Puducherry', 'Punjab',\n",
              "       'Rajasthan', 'Sikkim', 'Tamil Nadu', 'Telangana', 'Uttar Pradesh'],\n",
              "      dtype=object)"
            ]
          },
          "metadata": {
            "tags": []
          },
          "execution_count": 17
        }
      ]
    },
    {
      "cell_type": "code",
      "metadata": {
        "id": "shzecioJwh1z",
        "colab_type": "code",
        "outputId": "473a3e6c-9ed7-4c58-bfd4-5e7b9cff8366",
        "colab": {
          "base_uri": "https://localhost:8080/",
          "height": 294
        }
      },
      "source": [
        "# Using the elbow method to find the optimal number of clusters\n",
        "from sklearn.cluster import KMeans\n",
        "wcss = []\n",
        "for i in range(1, 15):\n",
        "    kmeans = KMeans(n_clusters = i, init = 'k-means++', max_iter=300, n_init=10, random_state = 0)\n",
        "    kmeans.fit(X)\n",
        "    wcss.append(kmeans.inertia_)\n",
        "plt.plot(range(1, 15), wcss)\n",
        "plt.title('The Elbow Method')\n",
        "plt.xlabel('Number of clusters')\n",
        "plt.ylabel('WCSS')\n",
        "plt.show()"
      ],
      "execution_count": 0,
      "outputs": [
        {
          "output_type": "display_data",
          "data": {
            "image/png": "[encoded data removed]",
            "text/plain": [
              "<Figure size 432x288 with 1 Axes>"
            ]
          },
          "metadata": {
            "tags": [],
            "needs_background": "light"
          }
        }
      ]
    },
    {
      "cell_type": "code",
      "metadata": {
        "id": "aj3u0Fypzb0g",
        "colab_type": "code",
        "colab": {}
      },
      "source": [
        "# Fitting K-Means to the dataset since 3 is elbow\n",
        "kmeans = KMeans(n_clusters = 2, init = 'k-means++', random_state = 0)\n",
        "y_kmeans = kmeans.fit_predict(X)"
      ],
      "execution_count": 0,
      "outputs": []
    },
    {
      "cell_type": "code",
      "metadata": {
        "id": "vDQZ4I2LzvGb",
        "colab_type": "code",
        "outputId": "17e52375-83f1-49fa-99fe-4f32871d1366",
        "colab": {
          "base_uri": "https://localhost:8080/",
          "height": 294
        }
      },
      "source": [
        "# Visualising the clusters\n",
        "plt.scatter(X[y_kmeans == 0, 0], X[y_kmeans == 0, 1], s = 100, c = 'red', label = 'Cluster 1')\n",
        "plt.scatter(X[y_kmeans == 1, 0], X[y_kmeans == 1, 1], s = 100, c = 'blue', label = 'Cluster 2')\n",
        "#plt.scatter(X[y_kmeans == 2, 0], X[y_kmeans == 2, 1], s = 100, c = 'green', label = 'Cluster 3')\n",
        "#plt.scatter(X[y_kmeans == 3, 0], X[y_kmeans == 3, 1], s = 100, c = 'cyan', label = 'Cluster 4')\n",
        "#plt.scatter(X[y_kmeans == 4, 0], X[y_kmeans == 4, 1], s = 100, c = 'magenta', label = 'Cluster 5')\n",
        "plt.scatter(kmeans.cluster_centers_[:, 0], kmeans.cluster_centers_[:, 1], s = 300, c = 'yellow', label = 'Centroids')\n",
        "plt.title('Clusters of S02 Pollutant')\n",
        "plt.xlabel('States')\n",
        "plt.ylabel('S02')\n",
        "plt.legend()\n",
        "plt.show()"
      ],
      "execution_count": 0,
      "outputs": [
        {
          "output_type": "display_data",
          "data": {
            "image/png": "[encoded data removed]",
            "text/plain": [
              "<Figure size 432x288 with 1 Axes>"
            ]
          },
          "metadata": {
            "tags": [],
            "needs_background": "light"
          }
        }
      ]
    }
  ]
}